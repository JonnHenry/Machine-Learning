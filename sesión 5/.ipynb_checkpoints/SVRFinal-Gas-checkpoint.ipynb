{
 "cells": [
  {
   "cell_type": "code",
   "execution_count": 1,
   "metadata": {},
   "outputs": [],
   "source": [
    "import numpy as np \n",
    "import pandas as pd\n",
    "from sklearn.svm import SVR\n",
    "from sklearn.model_selection import GridSearchCV\n",
    "from sklearn.model_selection import RandomizedSearchCV\n",
    "import matplotlib.pyplot as plt\n",
    "from sklearn import svm\n",
    "from sklearn.metrics import mean_squared_log_error\n",
    "\n",
    "from sklearn.metrics import mean_squared_error, r2_score, mean_absolute_error\n",
    "import numpy as np\n",
    "import matplotlib.pyplot as plt\n",
    "import math\n",
    "import datetime"
   ]
  },
  {
   "cell_type": "markdown",
   "metadata": {},
   "source": [
    "### Cargar los datos"
   ]
  },
  {
   "cell_type": "code",
   "execution_count": 2,
   "metadata": {},
   "outputs": [],
   "source": [
    "df = pd.read_csv(\"gas.csv\", index_col=0, parse_dates=[0])"
   ]
  },
  {
   "cell_type": "markdown",
   "metadata": {},
   "source": [
    "### Variable para el modelos"
   ]
  },
  {
   "cell_type": "code",
   "execution_count": 3,
   "metadata": {},
   "outputs": [],
   "source": [
    "# CONSTANTES \n",
    "LAG = 60  # lagged values\n",
    "REDUCIR_DATASET = True  # si el dataset toma mucho tiempo en entrenarse, habilite esta variable"
   ]
  },
  {
   "cell_type": "code",
   "execution_count": 4,
   "metadata": {},
   "outputs": [],
   "source": [
    "def getParametres(tuned_parameters,X_train,y_train):\n",
    "    \n",
    "    print(\"# Tuning hyper-parameters for\")\n",
    "    print()\n",
    "    clf = GridSearchCV(SVR(), tuned_parameters,cv=5, scoring='neg_mean_squared_error')\n",
    "    clf.fit(X_train, y_train)\n",
    "    \n",
    "    print(\"Best parameters set found on development set:\")\n",
    "    print()\n",
    "    print(clf.best_params_)\n",
    "    print()  \n",
    "        \n",
    "        #svr_poly = svm.SVR(kernel='poly',C=c,gamma=0.1, epsilon=.1).fit(X_train,y_train)"
   ]
  },
  {
   "cell_type": "markdown",
   "metadata": {},
   "source": [
    "### Recortar los datos "
   ]
  },
  {
   "cell_type": "code",
   "execution_count": 5,
   "metadata": {},
   "outputs": [],
   "source": [
    "# para hacer el dataset más pequeño y no tarde tanto tiempo el entrenamiento\n",
    "if REDUCIR_DATASET:\n",
    "    df = df[df.index >= \"2010-01-01\"]  "
   ]
  },
  {
   "cell_type": "code",
   "execution_count": 6,
   "metadata": {},
   "outputs": [],
   "source": [
    "def window(ds, lags):\n",
    "    tmp_ind = ds.index.to_numpy()[lags:]\n",
    "    for i in range(lags):\n",
    "        tmp = ds.iloc[:, 0].shift(-(i+1))\n",
    "        ds = pd.concat([ds, tmp], axis=1)\n",
    "        \n",
    "    ds = ds.dropna()\n",
    "    ds.index = tmp_ind\n",
    "        \n",
    "    return ds\n",
    "\n",
    "ndf = window(df, LAG)\n",
    "\n",
    "train_data = ndf[:'2018-12-31'].to_numpy()\n",
    "test_data  = ndf['2019-01-01':].to_numpy()\n"
   ]
  },
  {
   "cell_type": "code",
   "execution_count": 7,
   "metadata": {},
   "outputs": [
    {
     "name": "stdout",
     "output_type": "stream",
     "text": [
      "Observaciones: 3521\n",
      "Dataset de entrenamiento: (3227, 61)\n",
      "Dataset de prueba: (294, 61)\n"
     ]
    }
   ],
   "source": [
    "print('Observaciones: %d' % (len(ndf)))\n",
    "print('Dataset de entrenamiento:',train_data.shape)\n",
    "print('Dataset de prueba:', test_data.shape)"
   ]
  },
  {
   "cell_type": "code",
   "execution_count": 8,
   "metadata": {},
   "outputs": [],
   "source": [
    "X_train, y_train = train_data[:, :-1], train_data[:, -1]\n",
    "X_test, y_test = test_data[:, :-1], test_data[:, -1]"
   ]
  },
  {
   "cell_type": "markdown",
   "metadata": {},
   "source": [
    "### Obtener los parametros"
   ]
  },
  {
   "cell_type": "code",
   "execution_count": 10,
   "metadata": {},
   "outputs": [
    {
     "data": {
      "text/plain": [
       "SVR(C=100, cache_size=200, coef0=0.0, degree=3, epsilon=0.1, gamma='scale',\n",
       "    kernel='linear', max_iter=-1, shrinking=True, tol=0.001, verbose=False)"
      ]
     },
     "execution_count": 10,
     "metadata": {},
     "output_type": "execute_result"
    }
   ],
   "source": [
    "#Obtencion de parametros\n",
    "\n",
    "#tuned_parameters = {'kernel': ('rbf','linear','poly'), \n",
    "#                    'C': [0.1, 0.001, 0.001,10, 5,10,100,50],\n",
    "#                    'degree': [1,3,5,8],\n",
    "#                   'coef0': [0.001,0.01,0.1,1,10,0.5],\n",
    "#                    'gamma': [0.0001, 0.001, 0.005, 0.1, 1,0.01, 3, 5]}\n",
    "                     \n",
    "# Designate distributions to sample hyperparameters from \n",
    "#getParametres(tuned_parameters,X_train,y_train)\n",
    "\n",
    "\n",
    "svr_rbf = svm.SVR(kernel='linear',C=100)\n",
    "svr_rbf.fit(X_train,y_train)"
   ]
  },
  {
   "cell_type": "code",
   "execution_count": 11,
   "metadata": {},
   "outputs": [],
   "source": [
    "trainPredict = svr_rbf.predict(X_train)\n",
    "testPredict = svr_rbf.predict(X_test)"
   ]
  },
  {
   "cell_type": "code",
   "execution_count": 12,
   "metadata": {},
   "outputs": [
    {
     "name": "stdout",
     "output_type": "stream",
     "text": [
      "Training R^2 RBF= 0.971\n",
      "Testing R^2 RBF= 0.856\n"
     ]
    }
   ],
   "source": [
    "# predice con las matrices de entrenamiento y prueba\n",
    "\n",
    "# invert predictions\n",
    "trainY = [y_train]\n",
    "testY = [y_test]\n",
    "\n",
    "print(\"Training R^2 RBF=\", round(svr_rbf.score(X_train,y_train),3))\n",
    "print(\"Testing R^2 RBF=\", round(svr_rbf.score(X_test,y_test),3))\n",
    "\n",
    "#c=1\n",
    "#svr_rbf = svm.SVR(kernel='rbf',C=c,gamma=0.1, epsilon=.1).fit(X_train,y_train)\n",
    "#svr_lin = svm.SVR(kernel='linear',C=c,gamma=0.1, epsilon=.1).fit(X_train,y_train)\n",
    "#svr_poly = svm.SVR(kernel='poly',C=c,gamma=0.1, epsilon=.1).fit(X_train,y_train)\n",
    "\n",
    "#print(\"Testing R^2 RBF=\", round(svr_rbf.score(X_test,y_test),3))\n",
    "#print(\"Testing R^2 linear=\", round(svr_lin.score(X_test,y_test),3))\n",
    "#print(\"Testing R^2 poly=\", round(svr_poly.score(X_test,y_test),3))"
   ]
  },
  {
   "cell_type": "markdown",
   "metadata": {},
   "source": [
    "### Resultados de la predicción"
   ]
  },
  {
   "cell_type": "code",
   "execution_count": 14,
   "metadata": {},
   "outputs": [
    {
     "data": {
      "image/png": "[encoded data removed]",
      "text/plain": [
       "<Figure size 864x360 with 1 Axes>"
      ]
     },
     "metadata": {
      "needs_background": "light"
     },
     "output_type": "display_data"
    }
   ],
   "source": [
    "fig, ax = plt.subplots(1, 1, figsize=(12, 5))\n",
    "\n",
    "ax.plot(testY[0], color = 'red', label =\"Actual Natural Gas Price\")\n",
    "ax.plot(testPredict, color='blue', label = 'Predicted Price')\n",
    "plt.title(\"Natural Gas Price Prediction\")\n",
    "plt.xlabel('Time')\n",
    "plt.ylabel('Natural gas price')\n",
    "plt.legend(loc='best')\n",
    "plt.show()"
   ]
  },
  {
   "cell_type": "code",
   "execution_count": null,
   "metadata": {},
   "outputs": [],
   "source": []
  },
  {
   "cell_type": "code",
   "execution_count": null,
   "metadata": {},
   "outputs": [],
   "source": []
  }
 ],
 "metadata": {
  "kernelspec": {
   "display_name": "Python 3",
   "language": "python",
   "name": "python3"
  },
  "language_info": {
   "codemirror_mode": {
    "name": "ipython",
    "version": 3
   },
   "file_extension": ".py",
   "mimetype": "text/x-python",
   "name": "python",
   "nbconvert_exporter": "python",
   "pygments_lexer": "ipython3",
   "version": "3.7.6"
  }
 },
 "nbformat": 4,
 "nbformat_minor": 4
}
