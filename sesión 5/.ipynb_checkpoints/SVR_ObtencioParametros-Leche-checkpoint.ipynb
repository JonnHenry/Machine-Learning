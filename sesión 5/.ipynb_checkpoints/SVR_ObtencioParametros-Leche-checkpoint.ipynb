{
 "cells": [
  {
   "cell_type": "code",
   "execution_count": 1,
   "metadata": {},
   "outputs": [],
   "source": [
    "import numpy as np \n",
    "import pandas as pd\n",
    "from sklearn.svm import SVR\n",
    "from sklearn.model_selection import GridSearchCV\n",
    "from sklearn.model_selection import RandomizedSearchCV\n",
    "import matplotlib.pyplot as plt\n",
    "from sklearn import svm\n",
    "from sklearn.metrics import mean_squared_log_error\n",
    "\n",
    "\n",
    "import multiprocessing"
   ]
  },
  {
   "cell_type": "markdown",
   "metadata": {},
   "source": [
    "### Cargar los datos"
   ]
  },
  {
   "cell_type": "code",
   "execution_count": 2,
   "metadata": {},
   "outputs": [],
   "source": [
    "df = pd.read_csv(\"monthly-milk-production-pounds.csv\", index_col=0, parse_dates=[0])"
   ]
  },
  {
   "cell_type": "markdown",
   "metadata": {},
   "source": [
    "### Variable para el modelos"
   ]
  },
  {
   "cell_type": "code",
   "execution_count": 3,
   "metadata": {},
   "outputs": [],
   "source": [
    "# CONSTANTES \n",
    "LAG = 12  # lagged values"
   ]
  },
  {
   "cell_type": "code",
   "execution_count": 4,
   "metadata": {},
   "outputs": [],
   "source": [
    "def getParametres(tuned_parameters,X_train,y_train):\n",
    "    \n",
    "    print(\"# Tuning hyper-parameters for\")\n",
    "    print()\n",
    "    clf = GridSearchCV(SVR(), tuned_parameters,cv=5, scoring='neg_mean_squared_error',verbose=10,n_jobs=-1)\n",
    "    clf.fit(X_train, y_train)\n",
    "    \n",
    "    print(\"Best parameters set found on development set:\")\n",
    "    print()\n",
    "    print(clf.best_params_)\n",
    "    print()  "
   ]
  },
  {
   "cell_type": "markdown",
   "metadata": {},
   "source": [
    "### Recortar los datos "
   ]
  },
  {
   "cell_type": "code",
   "execution_count": 5,
   "metadata": {},
   "outputs": [],
   "source": [
    "def window(ds, lags):\n",
    "    tmp_ind = ds.index.to_numpy()[lags:]\n",
    "    for i in range(lags):\n",
    "        tmp = ds.iloc[:, 0].shift(-(i+1))\n",
    "        ds = pd.concat([ds, tmp], axis=1)\n",
    "        \n",
    "    ds = ds.dropna()\n",
    "    ds.index = tmp_ind\n",
    "        \n",
    "    return ds\n",
    "\n",
    "ndf = window(df, LAG)\n",
    "\n",
    "train_data = ndf[:'1974-12-31'].to_numpy()\n",
    "test_data  = ndf['1974-12-31':].to_numpy()\n"
   ]
  },
  {
   "cell_type": "code",
   "execution_count": 6,
   "metadata": {},
   "outputs": [
    {
     "name": "stdout",
     "output_type": "stream",
     "text": [
      "Observaciones: 156\n",
      "Dataset de entrenamiento: (144, 13)\n",
      "Dataset de prueba: (12, 13)\n"
     ]
    }
   ],
   "source": [
    "print('Observaciones: %d' % (len(ndf)))\n",
    "print('Dataset de entrenamiento:',train_data.shape)\n",
    "print('Dataset de prueba:', test_data.shape)"
   ]
  },
  {
   "cell_type": "code",
   "execution_count": 7,
   "metadata": {},
   "outputs": [],
   "source": [
    "X_train, y_train = train_data[:, :-1], train_data[:, -1]\n",
    "X_test, y_test = test_data[:, :-1], test_data[:, -1]"
   ]
  },
  {
   "cell_type": "markdown",
   "metadata": {},
   "source": [
    "### Obtener los parametros"
   ]
  },
  {
   "cell_type": "code",
   "execution_count": 8,
   "metadata": {},
   "outputs": [
    {
     "name": "stdout",
     "output_type": "stream",
     "text": [
      "# Tuning hyper-parameters for\n",
      "\n",
      "Fitting 5 folds for each of 8 candidates, totalling 40 fits\n"
     ]
    },
    {
     "name": "stderr",
     "output_type": "stream",
     "text": [
      "[Parallel(n_jobs=-1)]: Using backend LokyBackend with 4 concurrent workers.\n",
      "[Parallel(n_jobs=-1)]: Done   5 tasks      | elapsed:    2.0s\n",
      "[Parallel(n_jobs=-1)]: Done  10 tasks      | elapsed:  1.3min\n",
      "[Parallel(n_jobs=-1)]: Done  17 tasks      | elapsed:  6.6min\n",
      "[Parallel(n_jobs=-1)]: Done  24 tasks      | elapsed:  8.4min\n",
      "[Parallel(n_jobs=-1)]: Done  33 tasks      | elapsed: 11.8min\n",
      "[Parallel(n_jobs=-1)]: Done  38 out of  40 | elapsed: 17.2min remaining:   54.3s\n",
      "[Parallel(n_jobs=-1)]: Done  40 out of  40 | elapsed: 27.7min finished\n"
     ]
    },
    {
     "name": "stdout",
     "output_type": "stream",
     "text": [
      "Best parameters set found on development set:\n",
      "\n",
      "{'C': 100, 'kernel': 'linear'}\n",
      "\n"
     ]
    }
   ],
   "source": [
    "#Obtencion de parametros\n",
    "\n",
    "tuned_parameters = {'kernel': ('rbf','poly'), \n",
    "                    'C': [25,100,50,75]}\n",
    "                     \n",
    "# Designate distributions to sample hyperparameters from \n",
    "getParametres(tuned_parameters,X_train,y_train)"
   ]
  },
  {
   "cell_type": "code",
   "execution_count": 9,
   "metadata": {},
   "outputs": [],
   "source": []
  }
 ],
 "metadata": {
  "kernelspec": {
   "display_name": "Python 3",
   "language": "python",
   "name": "python3"
  },
  "language_info": {
   "codemirror_mode": {
    "name": "ipython",
    "version": 3
   },
   "file_extension": ".py",
   "mimetype": "text/x-python",
   "name": "python",
   "nbconvert_exporter": "python",
   "pygments_lexer": "ipython3",
   "version": "3.7.6"
  }
 },
 "nbformat": 4,
 "nbformat_minor": 4
}
