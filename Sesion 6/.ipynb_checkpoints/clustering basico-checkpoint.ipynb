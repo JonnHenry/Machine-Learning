{
 "cells": [
  {
   "cell_type": "markdown",
   "metadata": {},
   "source": [
    "# Ejercicio 1"
   ]
  },
  {
   "cell_type": "markdown",
   "metadata": {},
   "source": [
    "El objetivo de este ejercicio es que el alumno se familiarice con los algoritmos de clustering y analice, en base a la forma de los datasets, que algoritmos funcionan bajo ciertas circunstancias. Adicionalmente, que se entienda el objetivo de varios hyper-parámetros."
   ]
  },
  {
   "cell_type": "markdown",
   "metadata": {},
   "source": [
    "## Ejercicio 1.1"
   ]
  },
  {
   "cell_type": "markdown",
   "metadata": {},
   "source": [
    "Ejecute y analice el siguiente código"
   ]
  },
  {
   "cell_type": "code",
   "execution_count": 108,
   "metadata": {},
   "outputs": [],
   "source": [
    "import numpy as np\n",
    "import pandas as pd\n",
    "import matplotlib.pylab as plt\n",
    "import seaborn as sns\n",
    "sns.set()\n",
    "from sklearn import cluster, datasets, mixture\n",
    "from sklearn.neighbors import kneighbors_graph\n",
    "from sklearn.preprocessing import StandardScaler"
   ]
  },
  {
   "cell_type": "code",
   "execution_count": 101,
   "metadata": {},
   "outputs": [],
   "source": [
    "def crear_dataset(d):\n",
    "    x = d[0]\n",
    "    y = d[1]\n",
    "    \n",
    "    return pd.DataFrame(np.column_stack([x, y]), columns=[\"x\", \"y\", \"cluster\"])\n",
    "    \n",
    "    \n",
    "N_SAMPLES = 100\n",
    "\n",
    "# se crean semilunas y nubes de datos\n",
    "noisy_moons = crear_dataset(datasets.make_moons(n_samples=N_SAMPLES, noise=.05))\n",
    "blobs = crear_dataset(datasets.make_blobs(n_samples=N_SAMPLES, centers=4, random_state=4))"
   ]
  },
  {
   "cell_type": "code",
   "execution_count": null,
   "metadata": {},
   "outputs": [],
   "source": [
    "fig, ax = plt.subplots(1, 2, figsize=(15, 5))\n",
    "\n",
    "sns.scatterplot(x=\"x\", y=\"y\", data=noisy_moons, hue=\"cluster\", ax=ax[0])\n",
    "sns.scatterplot(x=\"x\", y=\"y\", data=blobs, hue=\"cluster\", ax=ax[1])"
   ]
  },
  {
   "cell_type": "code",
   "execution_count": null,
   "metadata": {},
   "outputs": [],
   "source": [
    "def mostrar_clusters(df):\n",
    "    \"\"\"Muestra los resultados de las distintas técnicas de clustering\n",
    "    \"\"\"\n",
    "    fig, ax = plt.subplots(1, 4, figsize=(20, 5))\n",
    "    \n",
    "    sns.scatterplot(x=\"x\", y=\"y\", data=df, hue=\"clusters\", ax=ax[0], legend=\"full\")\n",
    "    ax[0].set_title('Ground Truth')\n",
    "    sns.scatterplot(x=\"x\", y=\"y\", data=df, hue=\"clust_ac\", ax=ax[1], legend=\"full\")\n",
    "    ax[1].set_title('Agglomerative Clustering')\n",
    "    sns.scatterplot(x=\"x\", y=\"y\", data=df, hue=\"clust_db\", ax=ax[2], legend=\"full\")\n",
    "    ax[2].set_title('DBSCAN')\n",
    "    sns.scatterplot(x=\"x\", y=\"y\", data=df, hue=\"clust_km\", ax=ax[3], legend=\"full\")\n",
    "    ax[3].set_title('K-Means')\n",
    "    \n",
    "\n",
    "def ejecutar_clustering(df, n_clusters):\n",
    "    \"\"\"Ejecuta técnicas de clustering y almacena los resultados\n",
    "    \"\"\"\n",
    "    x = df[[\"x\", \"y\"]].to_numpy()\n",
    "    clusters = df.cluster.to_numpy()\n",
    "    \n",
    "    # agglomerative clustering\n",
    "    ac = cluster.AgglomerativeClustering(n_clusters=n_clusters, affinity='euclidean', linkage='single')\n",
    "    ac.fit(x)\n",
    "    clust_ac = ac.labels_\n",
    "\n",
    "    # dbscan\n",
    "    db = cluster.DBSCAN(metric='euclidean', eps=0.38)\n",
    "    db.fit(x)\n",
    "    clust_db = db.labels_\n",
    "\n",
    "    # kmeans\n",
    "    clust_km = cluster.k_means(x, n_clusters=n_clusters)[1]\n",
    "    \n",
    "    tmp_df = pd.DataFrame(np.column_stack([x, clusters, clust_ac, clust_db, clust_km]), \n",
    "                          columns=[\"x\", \"y\", \"clusters\", \"clust_ac\", \"clust_db\", \"clust_km\"])\n",
    "    \n",
    "    mostrar_clusters(tmp_df)\n",
    "\n",
    "\n",
    "n_clusters = [2, 4]\n",
    "for i, dataset in enumerate([noisy_moons, blobs]):\n",
    "    ejecutar_clustering(dataset, n_clusters=n_clusters[i])"
   ]
  },
  {
   "cell_type": "markdown",
   "metadata": {},
   "source": [
    "## Ejercicio 1.2 "
   ]
  },
  {
   "cell_type": "markdown",
   "metadata": {},
   "source": [
    "Modifique los hyper-parámetros. Para este ejercicio, el número de clusters ya fue dado como dato de entrada para los algoritmos. Modifique este valor y analice los resultados.  Además, modifique las métricas de distancia para los algoritmos y verifique los resultados.  Finalmente, en la técnica de Agglomerative Clustering, modifique el parámetro `linkage` por los siguientes valores: ward”, “complete”, “average”, “single”. ¿Que efecto tiene con la forma de los clusters?"
   ]
  },
  {
   "cell_type": "markdown",
   "metadata": {},
   "source": [
    "## Ejercicio 1.3 "
   ]
  },
  {
   "cell_type": "markdown",
   "metadata": {},
   "source": [
    "En base a los resultados previos:\n",
    "    \n",
    "- ¿Existe algún algoritmo de clustering que es superior a los otros?\n",
    "- ¿Existe algún algoritmo que sea superior considerando los dos tipos de datos provistos: moons y clouds?\n",
    "\n",
    "Para este ejercicio, un algoritmo se considera correcto si sus clusters se asemejan lo más posible al Ground Truth"
   ]
  }
 ],
 "metadata": {
  "kernelspec": {
   "display_name": "Python 3",
   "language": "python",
   "name": "python3"
  },
  "language_info": {
   "codemirror_mode": {
    "name": "ipython",
    "version": 3
   },
   "file_extension": ".py",
   "mimetype": "text/x-python",
   "name": "python",
   "nbconvert_exporter": "python",
   "pygments_lexer": "ipython3",
   "version": "3.7.3"
  },
  "widgets": {
   "application/vnd.jupyter.widget-state+json": {
    "state": {},
    "version_major": 2,
    "version_minor": 0
   }
  }
 },
 "nbformat": 4,
 "nbformat_minor": 4
}
