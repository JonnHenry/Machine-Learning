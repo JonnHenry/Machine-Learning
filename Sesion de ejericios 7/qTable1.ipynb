{
 "cells": [
  {
   "cell_type": "code",
   "execution_count": 1,
   "metadata": {},
   "outputs": [],
   "source": [
    "import numpy as np\n",
    "import pandas as pd "
   ]
  },
  {
   "cell_type": "code",
   "execution_count": 9,
   "metadata": {},
   "outputs": [
    {
     "name": "stdout",
     "output_type": "stream",
     "text": [
      "e1 = {c2;c1;b1;a1;a2;a3;a4}\n",
      "Valores de recompensa movimientos e1:  [-1, -1, -1, -1, -1, -1, 10]\n"
     ]
    },
    {
     "data": {
      "text/html": [
       "<div>\n",
       "<style scoped>\n",
       "    .dataframe tbody tr th:only-of-type {\n",
       "        vertical-align: middle;\n",
       "    }\n",
       "\n",
       "    .dataframe tbody tr th {\n",
       "        vertical-align: top;\n",
       "    }\n",
       "\n",
       "    .dataframe thead th {\n",
       "        text-align: right;\n",
       "    }\n",
       "</style>\n",
       "<table border=\"1\" class=\"dataframe\">\n",
       "  <thead>\n",
       "    <tr style=\"text-align: right;\">\n",
       "      <th></th>\n",
       "      <th>1</th>\n",
       "      <th>2</th>\n",
       "      <th>3</th>\n",
       "      <th>4</th>\n",
       "    </tr>\n",
       "  </thead>\n",
       "  <tbody>\n",
       "    <tr>\n",
       "      <th>a</th>\n",
       "      <td>-1</td>\n",
       "      <td>-1</td>\n",
       "      <td>-1</td>\n",
       "      <td>10</td>\n",
       "    </tr>\n",
       "    <tr>\n",
       "      <th>b</th>\n",
       "      <td>-1</td>\n",
       "      <td>0</td>\n",
       "      <td>-1</td>\n",
       "      <td>-10</td>\n",
       "    </tr>\n",
       "    <tr>\n",
       "      <th>c</th>\n",
       "      <td>-1</td>\n",
       "      <td>-1</td>\n",
       "      <td>-1</td>\n",
       "      <td>-1</td>\n",
       "    </tr>\n",
       "  </tbody>\n",
       "</table>\n",
       "</div>"
      ],
      "text/plain": [
       "   1  2  3   4\n",
       "a -1 -1 -1  10\n",
       "b -1  0 -1 -10\n",
       "c -1 -1 -1  -1"
      ]
     },
     "execution_count": 9,
     "metadata": {},
     "output_type": "execute_result"
    }
   ],
   "source": [
    "qTableArr=np.zeros((5, 4)) # filas columnas\n",
    "states=['inicio','pared','trofeo','virus','nada']\n",
    "qTable = pd.DataFrame(data=qTableArr,columns=['izq', 'der', 'arriba', 'abajo'],index=states)\n",
    "# la matriz laberinto con las recompensas\n",
    "# -1 estado valido\n",
    "# 10 trofeo\n",
    "#-10 virus\n",
    "# 0 pared\n",
    "matrizLaberinto = [\n",
    "             [-1,-1,-1,10],\n",
    "             [-1,0,-1,-10],\n",
    "             [-1,-1,-1,-1],\n",
    "             ]\n",
    "datos = np.array(matrizLaberinto)\n",
    "col=['a','b','c']\n",
    "laberinto = pd.DataFrame(data=datos,columns=['1', '2', '3', '4'],index=col)\n",
    "r=[laberinto.loc['c','2'],laberinto.loc['c','1'],laberinto.loc['b','1'],laberinto.loc['a','1'],laberinto.loc['a','2'],laberinto.loc['a','3'],laberinto.loc['a','4']]\n",
    "\n",
    "print('e1 = {c2;c1;b1;a1;a2;a3;a4}')\n",
    "print('Valores de recompensa movimientos e1: ', r)\n",
    "learningRate = 1\n",
    "discountFactor = 0.9\n",
    "#creacion de los vectores de action\n",
    "action_e1 = ['izq','arriba','arriba','der','der','der','der']\n",
    "state='inicio'\n",
    "action='izq'\n",
    "laberinto"
   ]
  },
  {
   "cell_type": "markdown",
   "metadata": {},
   "source": [
    "<img src=\"CapturaLaberinto.png\">"
   ]
  },
  {
   "cell_type": "code",
   "execution_count": 10,
   "metadata": {},
   "outputs": [
    {
     "data": {
      "text/html": [
       "<div>\n",
       "<style scoped>\n",
       "    .dataframe tbody tr th:only-of-type {\n",
       "        vertical-align: middle;\n",
       "    }\n",
       "\n",
       "    .dataframe tbody tr th {\n",
       "        vertical-align: top;\n",
       "    }\n",
       "\n",
       "    .dataframe thead th {\n",
       "        text-align: right;\n",
       "    }\n",
       "</style>\n",
       "<table border=\"1\" class=\"dataframe\">\n",
       "  <thead>\n",
       "    <tr style=\"text-align: right;\">\n",
       "      <th></th>\n",
       "      <th>izq</th>\n",
       "      <th>der</th>\n",
       "      <th>arriba</th>\n",
       "      <th>abajo</th>\n",
       "    </tr>\n",
       "  </thead>\n",
       "  <tbody>\n",
       "    <tr>\n",
       "      <th>inicio</th>\n",
       "      <td>0.0</td>\n",
       "      <td>0.0</td>\n",
       "      <td>0.0</td>\n",
       "      <td>0.0</td>\n",
       "    </tr>\n",
       "    <tr>\n",
       "      <th>pared</th>\n",
       "      <td>0.0</td>\n",
       "      <td>0.0</td>\n",
       "      <td>0.0</td>\n",
       "      <td>0.0</td>\n",
       "    </tr>\n",
       "    <tr>\n",
       "      <th>trofeo</th>\n",
       "      <td>0.0</td>\n",
       "      <td>0.0</td>\n",
       "      <td>0.0</td>\n",
       "      <td>0.0</td>\n",
       "    </tr>\n",
       "    <tr>\n",
       "      <th>virus</th>\n",
       "      <td>0.0</td>\n",
       "      <td>0.0</td>\n",
       "      <td>0.0</td>\n",
       "      <td>0.0</td>\n",
       "    </tr>\n",
       "    <tr>\n",
       "      <th>nada</th>\n",
       "      <td>0.0</td>\n",
       "      <td>0.0</td>\n",
       "      <td>0.0</td>\n",
       "      <td>0.0</td>\n",
       "    </tr>\n",
       "  </tbody>\n",
       "</table>\n",
       "</div>"
      ],
      "text/plain": [
       "        izq  der  arriba  abajo\n",
       "inicio  0.0  0.0     0.0    0.0\n",
       "pared   0.0  0.0     0.0    0.0\n",
       "trofeo  0.0  0.0     0.0    0.0\n",
       "virus   0.0  0.0     0.0    0.0\n",
       "nada    0.0  0.0     0.0    0.0"
      ]
     },
     "execution_count": 10,
     "metadata": {},
     "output_type": "execute_result"
    }
   ],
   "source": [
    "qTable"
   ]
  },
  {
   "cell_type": "code",
   "execution_count": 11,
   "metadata": {},
   "outputs": [
    {
     "data": {
      "text/html": [
       "<div>\n",
       "<style scoped>\n",
       "    .dataframe tbody tr th:only-of-type {\n",
       "        vertical-align: middle;\n",
       "    }\n",
       "\n",
       "    .dataframe tbody tr th {\n",
       "        vertical-align: top;\n",
       "    }\n",
       "\n",
       "    .dataframe thead th {\n",
       "        text-align: right;\n",
       "    }\n",
       "</style>\n",
       "<table border=\"1\" class=\"dataframe\">\n",
       "  <thead>\n",
       "    <tr style=\"text-align: right;\">\n",
       "      <th></th>\n",
       "      <th>izq</th>\n",
       "      <th>der</th>\n",
       "      <th>arriba</th>\n",
       "      <th>abajo</th>\n",
       "    </tr>\n",
       "  </thead>\n",
       "  <tbody>\n",
       "    <tr>\n",
       "      <th>inicio</th>\n",
       "      <td>-1.0</td>\n",
       "      <td>0.0</td>\n",
       "      <td>0.0</td>\n",
       "      <td>0.0</td>\n",
       "    </tr>\n",
       "    <tr>\n",
       "      <th>pared</th>\n",
       "      <td>0.0</td>\n",
       "      <td>0.0</td>\n",
       "      <td>0.0</td>\n",
       "      <td>0.0</td>\n",
       "    </tr>\n",
       "    <tr>\n",
       "      <th>trofeo</th>\n",
       "      <td>0.0</td>\n",
       "      <td>10.0</td>\n",
       "      <td>0.0</td>\n",
       "      <td>0.0</td>\n",
       "    </tr>\n",
       "    <tr>\n",
       "      <th>virus</th>\n",
       "      <td>0.0</td>\n",
       "      <td>0.0</td>\n",
       "      <td>0.0</td>\n",
       "      <td>0.0</td>\n",
       "    </tr>\n",
       "    <tr>\n",
       "      <th>nada</th>\n",
       "      <td>-1.0</td>\n",
       "      <td>10.0</td>\n",
       "      <td>-1.0</td>\n",
       "      <td>0.0</td>\n",
       "    </tr>\n",
       "  </tbody>\n",
       "</table>\n",
       "</div>"
      ],
      "text/plain": [
       "        izq   der  arriba  abajo\n",
       "inicio -1.0   0.0     0.0    0.0\n",
       "pared   0.0   0.0     0.0    0.0\n",
       "trofeo  0.0  10.0     0.0    0.0\n",
       "virus   0.0   0.0     0.0    0.0\n",
       "nada   -1.0  10.0    -1.0    0.0"
      ]
     },
     "execution_count": 11,
     "metadata": {},
     "output_type": "execute_result"
    }
   ],
   "source": [
    "\n",
    "for k in range(0,len(r)):\n",
    "    Q = qTable.loc[state,action]\n",
    "    R = r[k]\n",
    "    if r[k] == -1 :\n",
    "        statePrima = 'nada'\n",
    "    if r[k] == 10 :\n",
    "        statePrima = 'trofeo'\n",
    "    if r[k] == -10 :\n",
    "        statePrima = 'virus'\n",
    "    if r[k] == 0 :\n",
    "        statePrima = 'pared'\n",
    "    actionPrima = action_e1[k]\n",
    "    QPrima = qTable.loc[statePrima,actionPrima]\n",
    "    NQ = Q + learningRate*(R + discountFactor*(QPrima) - Q)\n",
    "    qTable.loc[state,action] = NQ\n",
    "    state = statePrima\n",
    "    action = actionPrima\n",
    "qTable.loc[state,action] = qTable.loc[state,action] + learningRate*(R + discountFactor*(QPrima) - qTable.loc[state,action])\n",
    "qTable"
   ]
  },
  {
   "cell_type": "code",
   "execution_count": null,
   "metadata": {},
   "outputs": [],
   "source": []
  },
  {
   "cell_type": "code",
   "execution_count": null,
   "metadata": {},
   "outputs": [],
   "source": []
  },
  {
   "cell_type": "code",
   "execution_count": null,
   "metadata": {},
   "outputs": [],
   "source": []
  },
  {
   "cell_type": "code",
   "execution_count": null,
   "metadata": {},
   "outputs": [],
   "source": []
  }
 ],
 "metadata": {
  "kernelspec": {
   "display_name": "Python 3",
   "language": "python",
   "name": "python3"
  },
  "language_info": {
   "codemirror_mode": {
    "name": "ipython",
    "version": 3
   },
   "file_extension": ".py",
   "mimetype": "text/x-python",
   "name": "python",
   "nbconvert_exporter": "python",
   "pygments_lexer": "ipython3",
   "version": "3.7.6"
  }
 },
 "nbformat": 4,
 "nbformat_minor": 4
}
