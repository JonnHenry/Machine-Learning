{
 "cells": [
  {
   "cell_type": "markdown",
   "metadata": {},
   "source": [
    "# Ejercicio 1"
   ]
  },
  {
   "cell_type": "markdown",
   "metadata": {},
   "source": [
    "El objetivo de este ejercicio es probar métodos ensemble para clasificación binaria de datos en dos dimensiones que no son separables linealmente. La forma de los datos es de semi-lunas. Además, el estudiante deberá entender los hyper-parámetros de los distintos modelos para obtener mejores valores de `accuracy`"
   ]
  },
  {
   "cell_type": "markdown",
   "metadata": {},
   "source": [
    "## Ejercicio 1.1"
   ]
  },
  {
   "cell_type": "markdown",
   "metadata": {},
   "source": [
    "Ejecute el código a continuación y analice la estructura de los datos generados"
   ]
  },
  {
   "cell_type": "code",
   "execution_count": 21,
   "metadata": {},
   "outputs": [],
   "source": [
    "from sklearn.datasets import make_moons\n",
    "from sklearn.metrics import accuracy_score\n",
    "from sklearn.model_selection import train_test_split\n",
    "from sklearn.tree import DecisionTreeClassifier\n",
    "import xgboost as xgb\n",
    "from sklearn.ensemble import RandomForestClassifier,AdaBoostClassifier,GradientBoostingClassifier\n",
    "from sklearn.model_selection import GridSearchCV, RandomizedSearchCV\n",
    "from sklearn.manifold import TSNE\n",
    "import pandas as pd\n",
    "import numpy as np\n",
    "import seaborn as sns\n",
    "import matplotlib.pylab as plt\n",
    "sns.set()"
   ]
  },
  {
   "cell_type": "code",
   "execution_count": 117,
   "metadata": {},
   "outputs": [],
   "source": [
    "# se genera un dataset de 1000 ejemplos y 2 atributos\n",
    "X, y = make_moons(n_samples=1000, noise=.5, random_state=0)"
   ]
  },
  {
   "cell_type": "code",
   "execution_count": 118,
   "metadata": {},
   "outputs": [],
   "source": [
    "def mostrar_dataset(x, y):\n",
    "    \"\"\"Función para mostrar la estructura del dataset generado\n",
    "    \"\"\"\n",
    "    fig, ax = plt.subplots(1, 1, figsize=(10, 6))\n",
    "    tmp_df = pd.DataFrame(np.column_stack([x, y]))\n",
    "    tmp_df.columns = [\"x1\", \"x2\", \"Clase\"]\n",
    "    \n",
    "    sns.scatterplot(x=\"x1\", y=\"x2\", hue=\"Clase\", data=tmp_df, ax=ax)\n"
   ]
  },
  {
   "cell_type": "code",
   "execution_count": null,
   "metadata": {},
   "outputs": [],
   "source": [
    "mostrar_dataset(X, y)"
   ]
  },
  {
   "cell_type": "markdown",
   "metadata": {},
   "source": [
    "¿Que puede decir a cerca del dataset? \n",
    "\n",
    "Separabilidad, ruido, dispersión, balance de clases, etc."
   ]
  },
  {
   "cell_type": "markdown",
   "metadata": {},
   "source": [
    "## Ejercicio 1.2"
   ]
  },
  {
   "cell_type": "markdown",
   "metadata": {},
   "source": [
    "Ejecute el código a continuación, donde se generarán varios modelos ensemble y un model simple de árbol de decisión. Cree primero los modelos usando los parámetros por defecto y al final genere un gráfico de barras con los resultados de `accuracy` por cada modelo"
   ]
  },
  {
   "cell_type": "code",
   "execution_count": 120,
   "metadata": {},
   "outputs": [],
   "source": [
    "# el dataset es dividido en datos de entrenamiento y prueba\n",
    "X_train, X_test, y_train, y_test = train_test_split(X, y, test_size=0.2, random_state=42)"
   ]
  },
  {
   "cell_type": "code",
   "execution_count": null,
   "metadata": {},
   "outputs": [],
   "source": [
    "# Arbol de decisión\n",
    "clf = DecisionTreeClassifier()\n",
    "clf.fit(X_train, y_train)\n",
    "y_pred = clf.predict(X_test)\n",
    "accuracy_score(y_test, y_pred)"
   ]
  },
  {
   "cell_type": "code",
   "execution_count": null,
   "metadata": {},
   "outputs": [],
   "source": [
    "# Random Forest\n",
    "clf = RandomForestClassifier(n_estimators=50, max_depth=10)\n",
    "clf.fit(X_train, y_train)\n",
    "y_pred = clf.predict(X_test)\n",
    "accuracy_score(y_test, y_pred)"
   ]
  },
  {
   "cell_type": "code",
   "execution_count": null,
   "metadata": {},
   "outputs": [],
   "source": [
    "# AdaBoost\n",
    "clf = AdaBoostClassifier(n_estimators=50, learning_rate=0.1)\n",
    "clf.fit(X_train, y_train)\n",
    "y_pred = clf.predict(X_test)\n",
    "accuracy_score(y_test, y_pred)"
   ]
  },
  {
   "cell_type": "code",
   "execution_count": null,
   "metadata": {},
   "outputs": [],
   "source": [
    "# Gradient Boost\n",
    "clf = GradientBoostingClassifier(n_estimators=50, max_depth=4, learning_rate=0.1)\n",
    "clf.fit(X_train, y_train)\n",
    "y_pred = clf.predict(X_test)\n",
    "accuracy_score(y_test, y_pred)"
   ]
  },
  {
   "cell_type": "code",
   "execution_count": null,
   "metadata": {},
   "outputs": [],
   "source": [
    "# XGBoost\n",
    "xg_reg = xgb.XGBClassifier(n_estimators=50, max_depth=4, learning_rate=0.1)\n",
    "xg_reg.fit(X_train,y_train)\n",
    "y_pred = xg_reg.predict(X_test)\n",
    "accuracy_score(y_test, y_pred)"
   ]
  },
  {
   "cell_type": "markdown",
   "metadata": {},
   "source": [
    "## Ejercicio 1.3"
   ]
  },
  {
   "cell_type": "markdown",
   "metadata": {},
   "source": [
    "Modifique el ejercicio anterior asignando valores \"coherentes\" para cada modelo. Es decir, usted debe decidir que parámetros utilizar y que valores asignarlos para mejorar los resultados base (prueba y error).  Al final, genere otro gráfico de barras indicando los nuevos valores de `accuracy` para los modelos.\n",
    "\n",
    "Sugerencia: Se pueden modificar los siguientes parámetros para cada modelo (si quiere modifique otros)\n",
    "- RandomForest: n_estimators, max_features, max_depth, etc.\n",
    "- AdaBoostClassifier: n_estimators, learning_rate, etc.\n",
    "- GradientBoost: n_estimators, learning_rate, max_depth, etc.\n",
    "- XGBoost: eta (learning rate), max_depth, n_estimators, etc.\n",
    "\n",
    "Para cada modelo, revisar en su documentación el significado de cada parámetro"
   ]
  },
  {
   "cell_type": "markdown",
   "metadata": {},
   "source": [
    "## Ejercicio 1.4"
   ]
  },
  {
   "cell_type": "markdown",
   "metadata": {},
   "source": [
    "Modifique el parámetro `noise=.5` de la función `make_moons()`. El nuevo valor de `noise` será 0.25. Esto implica que la generación de datos tendrá menos ruido. Como afecta la reducción de ruido a la clasificación; más específicamente con el modelo `DecisionTreeClassifier`. ¿Ahora cuál es su rendimiento con respecto a los modelos más complejos? ¿Cuál es la explicación de este fenómeno?"
   ]
  }
 ],
 "metadata": {
  "kernelspec": {
   "display_name": "Python 3",
   "language": "python",
   "name": "python3"
  },
  "language_info": {
   "codemirror_mode": {
    "name": "ipython",
    "version": 3
   },
   "file_extension": ".py",
   "mimetype": "text/x-python",
   "name": "python",
   "nbconvert_exporter": "python",
   "pygments_lexer": "ipython3",
   "version": "3.7.3"
  }
 },
 "nbformat": 4,
 "nbformat_minor": 4
}
